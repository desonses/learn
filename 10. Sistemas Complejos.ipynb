{
 "cells": [
  {
   "cell_type": "markdown",
   "metadata": {
    "colab_type": "text",
    "id": "bwO3Wd45BJmI"
   },
   "source": [
    "**Exercise 5.3** \n",
    "\n",
    "The goal of this exercise is to implement a Turing machine.\n",
    "1. Read about Turing machines at http://thinkcomplex.com/tm.\n",
    "2. Write a class called Turing that implements a Turing machine. For the\n",
    "action table, use the rules for a 3-state busy beaver.\n",
    "\n",
    "3. Write a class named TuringViewer that generates an image that represents the state of the tape and the position and state of the head. For one example of what that might look like, see http://thinkcomplex.com/turing."
   ]
  },
  {
   "cell_type": "code",
   "execution_count": 1,
   "metadata": {
    "colab": {},
    "colab_type": "code",
    "id": "E5wXlyHui_oi"
   },
   "outputs": [],
   "source": [
    "import numpy as np"
   ]
  },
  {
   "cell_type": "code",
   "execution_count": 2,
   "metadata": {
    "colab": {},
    "colab_type": "code",
    "id": "lR9nw7kDBLWb"
   },
   "outputs": [],
   "source": [
    "n = 15 # tam de la matriz (cinta)\n",
    "class Turing:\n",
    "# https://www.matesfacil.com/automatas-lenguajes/Maquina-Turing.html\n",
    "\n",
    "    def __init__(self, Q, q0, F):\n",
    "        \"\"\" \n",
    "        Q: conjunto de estados\n",
    "        q0: estado inicial de la maquina\n",
    "        F: estado final de la maquina\n",
    "        \"\"\"\n",
    "        self.Q = Q\n",
    "        self.q0 = q0\n",
    "        self.F = F\n",
    "        self.cinta = np.zeros((n, n), dtype=np.uint8)\n",
    "        self.cabeza = n//2                             # posicion en el centro de la cinta\n",
    "        self.sig = 1\n",
    "\n",
    "    def func_delta(self, q, simbolo): \n",
    "        #func de transicion -> δ(q,X) = (p,Y,{L, R})\n",
    "\n",
    "        # simbolo 0 y estado A\n",
    "        if q == \"A\" and simbolo == 0:\n",
    "            return \"B\", 1, \"R\"\n",
    "            \n",
    "        # simbolo 0 y estado B\n",
    "        if q == \"B\" and simbolo == 0:\n",
    "            return \"A\", 1, \"L\"\n",
    "\n",
    "        # simbolo 0 y estado C\n",
    "        if q == \"C\" and simbolo == 0:\n",
    "            return \"B\", 1, \"L\"\n",
    "\n",
    "        # simbolo 1 y estado A\n",
    "        if q == \"A\" and simbolo == 1:\n",
    "            return \"C\", 1, \"L\"        \n",
    "\n",
    "        # simbolo 1 y estado B\n",
    "        if q == \"B\" and simbolo == 1:\n",
    "            return \"B\", 1, \"R\"\n",
    "\n",
    "        # simbolo 1 y estado B\n",
    "        if q == \"C\" and simbolo == 1:\n",
    "            return \"H\", 1, \"R\"\n",
    "\n",
    "\n",
    "    \"\"\"\n",
    "    ejecuta la maquina, el ciclo se ejecuta mientras q0 no es F, \n",
    "    lee el simbolo sobre el cual esta el cabezal y estado de la maquina,\n",
    "    \"\"\"\n",
    "    def corre_maquina(self):\n",
    "        acciones = []\n",
    "\n",
    "        while self.q0 != self.F:\n",
    "            self.cinta[self.sig] = self.cinta[self.sig - 1]\n",
    "            simbolo_act = self.cinta[self.sig - 1, self.cabeza]           # simbolo actual\n",
    "            actual = self.q0                                              # estado actual\n",
    "            \n",
    "            # actualizacion de q0, cinta y direccion del cabezal\n",
    "            self.q0, self.cinta[self.sig, self.cabeza], direc = self.func_delta(\n",
    "                self.q0, simbolo_act)\n",
    "            \n",
    "            # se guardan las acciones que realiza la maquina en cada iteracion\n",
    "            acciones.append([self.q0, self.cinta[self.sig, self.cabeza], direc])\n",
    "\n",
    "            if direc == \"R\":\n",
    "                self.cabeza += 1\n",
    "            if direc == \"L\":\n",
    "                self.cabeza -= 1\n",
    "            self.sig += 1\n",
    "            \n",
    "        print(self.cinta)\n",
    "        print(\"Acciones en la maquina: \")\n",
    "        print(np.array(acciones))\n",
    "        \n"
   ]
  },
  {
   "cell_type": "code",
   "execution_count": 3,
   "metadata": {
    "colab": {
     "base_uri": "https://localhost:8080/",
     "height": 521
    },
    "colab_type": "code",
    "executionInfo": {
     "elapsed": 254,
     "status": "ok",
     "timestamp": 1576614368126,
     "user": {
      "displayName": "pirron de elis",
      "photoUrl": "https://lh3.googleusercontent.com/a-/AAuE7mDUGoHOXLSEkLPYdU_Gnc1yxZZPJWZ0YqYYuJwU8A=s64",
      "userId": "08178922149514211497"
     },
     "user_tz": 360
    },
    "id": "QbKVHDEtEQ3y",
    "outputId": "d712d46c-80f4-4a29-8296-13db7874ead8"
   },
   "outputs": [
    {
     "name": "stdout",
     "output_type": "stream",
     "text": [
      "[[0 0 0 0 0 0 0 0 0 0 0 0 0 0 0]\n",
      " [0 0 0 0 0 0 0 1 0 0 0 0 0 0 0]\n",
      " [0 0 0 0 0 0 0 1 1 0 0 0 0 0 0]\n",
      " [0 0 0 0 0 0 0 1 1 0 0 0 0 0 0]\n",
      " [0 0 0 0 0 0 1 1 1 0 0 0 0 0 0]\n",
      " [0 0 0 0 0 1 1 1 1 0 0 0 0 0 0]\n",
      " [0 0 0 0 1 1 1 1 1 0 0 0 0 0 0]\n",
      " [0 0 0 0 1 1 1 1 1 0 0 0 0 0 0]\n",
      " [0 0 0 0 1 1 1 1 1 0 0 0 0 0 0]\n",
      " [0 0 0 0 1 1 1 1 1 0 0 0 0 0 0]\n",
      " [0 0 0 0 1 1 1 1 1 0 0 0 0 0 0]\n",
      " [0 0 0 0 1 1 1 1 1 1 0 0 0 0 0]\n",
      " [0 0 0 0 1 1 1 1 1 1 0 0 0 0 0]\n",
      " [0 0 0 0 1 1 1 1 1 1 0 0 0 0 0]\n",
      " [0 0 0 0 0 0 0 0 0 0 0 0 0 0 0]]\n",
      "Acciones en la maquina: \n",
      "[['B' '1' 'R']\n",
      " ['A' '1' 'L']\n",
      " ['C' '1' 'L']\n",
      " ['B' '1' 'L']\n",
      " ['A' '1' 'L']\n",
      " ['B' '1' 'R']\n",
      " ['B' '1' 'R']\n",
      " ['B' '1' 'R']\n",
      " ['B' '1' 'R']\n",
      " ['B' '1' 'R']\n",
      " ['A' '1' 'L']\n",
      " ['C' '1' 'L']\n",
      " ['H' '1' 'R']]\n"
     ]
    }
   ],
   "source": [
    "# \n",
    "Q, q0, F = [\"A\", \"B\", \"C\", \"H\"], \"A\", \"H\"\n",
    "maquina = Turing(Q, q0, F)\n",
    "\n",
    "# muestra las acciones realizadas por la maquina en la cinta(matriz)\n",
    "maquina.corre_maquina()\n"
   ]
  },
  {
   "cell_type": "code",
   "execution_count": 0,
   "metadata": {
    "colab": {},
    "colab_type": "code",
    "id": "RBV0btTmtcSH"
   },
   "outputs": [],
   "source": []
  },
  {
   "cell_type": "markdown",
   "metadata": {
    "colab_type": "text",
    "id": "D-tWpS-UBU57"
   },
   "source": [
    "**Exercise 6.5**\n",
    "\n",
    "If you generalize the Turing machine to two dimensions, or\n",
    "add a read-write head to a 2-D CA, the result is a cellular automaton called a Turmite. It is named after a termite because of the way the read-write head moves, but spelled wrong as an homage to Alan Turing.\n",
    "\n",
    "The most famous Turmite is Langton’s Ant, discovered by Chris Langton in 1986. See http://thinkcomplex.com/langton.\n",
    "\n",
    "The ant is a read-write head with four states, which you can think of as facing north, south, east or west. The cells have two states, black and white.\n",
    "\n",
    "The rules are simple. During each time step, the ant checks the color of the cell it is on. If black, the ant turns to the right, changes the cell to white, and moves forward one space. If the cell is white, the ant turns left, changes the cell to black, and moves forward.\n",
    "\n",
    "Given a simple world, a simple set of rules, and only one moving part, you might expect to see simple behavior — but you should know better by now.Starting with all white cells, Langton’s ant moves in a seemingly random pattern for more than 10,000 steps before it enters a cycle with a period of 104 steps. After each cycle, the ant is translated diagonally, so it leaves a trail called the “highway”.\n",
    "\n",
    "**Write an implementation of Langton’s Ant.**\n"
   ]
  },
  {
   "cell_type": "code",
   "execution_count": 4,
   "metadata": {
    "colab": {},
    "colab_type": "code",
    "id": "uOrSqJKTzFI_"
   },
   "outputs": [],
   "source": [
    "from matplotlib import animation\n",
    "import matplotlib.pyplot as plt\n",
    "import numpy as np\n",
    "from matplotlib.animation import FuncAnimation\n",
    "from IPython import display"
   ]
  },
  {
   "cell_type": "code",
   "execution_count": 5,
   "metadata": {
    "colab": {},
    "colab_type": "code",
    "id": "kksVmXRSyH1b"
   },
   "outputs": [],
   "source": [
    "\n",
    "class Langton():\n",
    "\n",
    "    def __init__(self, malla):\n",
    "        \"\"\"\n",
    "        malla: matriz(nxn) donde se mueve la hormiga\n",
    "        \"\"\"\n",
    "        \n",
    "        self.malla = malla\n",
    "        self.a, self.b = self.malla.shape                           #dimension de la matriz\n",
    "        self.fig, self.ax = plt.subplots(figsize=(8,8))\n",
    "        self.imagen = self.ax.imshow(self.malla, cmap='binary', alpha=1, vmin=0, vmax=1)\n",
    "        self.direc = \"C\"\n",
    "        self.pos_x, self.pos_y = 0, 0\n",
    "\n",
    "    def direcciones(self, valor, x, y, R):\n",
    "        # condicion inicial\n",
    "        if(R == \"C\"):\n",
    "            if valor == 0:\n",
    "                return  1, x-1, y, \"N\"\n",
    "        ######################\n",
    "\n",
    "        if(R == \"N\"):\n",
    "            if valor == 0:\n",
    "                return 1, x, y+1, \"E\"\n",
    "            if valor == 1:\n",
    "                return 0, x, y-1, \"O\"\n",
    "\n",
    "        if(R == \"S\"):\n",
    "            if valor == 0:\n",
    "                return 1, x, y-1, \"O\"\n",
    "            if valor == 1:\n",
    "                return 0, x, y+1, \"E\" \n",
    "\n",
    "        if(R == \"E\"):\n",
    "            if valor == 0:\n",
    "                return 1, x+1, y, \"S\"\n",
    "            if valor ==1:\n",
    "                return 0, x-1, y, \"N\"\n",
    "\n",
    "        if(R == \"O\"):\n",
    "            if valor == 1:\n",
    "                return 0, x+1, y, \"S\"\n",
    "            if valor == 0:\n",
    "                return 1, x-1, y, \"N\"\n",
    "\n",
    "    def un_paso(self):\n",
    "        a, b = self.a//2 , self.b//2 # posicion inicial de la hormiga\n",
    "        if self.direc == \"C\":\n",
    "            self.malla[a, b], self.pos_x, self.pos_y,\n",
    "            self.direc = self.direcciones(self.malla[a,b], a, b, self.direc)\n",
    "\n",
    "        self.malla[self.pos_x, self.pos_y],\n",
    "        self.pos_x,\n",
    "        self.pos_y,\n",
    "        self.direc = self.direcciones(self.malla[self.pos_x, self.pos_y],\n",
    "                                      self.pos_x,self.pos_y,self.direc)\n",
    "        \n",
    "    def corre(self, i):\n",
    "        if i < 0:\n",
    "            return \n",
    "        self.un_paso()\n",
    "        self.imagen.set_array(self.malla)\n",
    "\n",
    "    def animacion(self):\n",
    "        anim = animation.FuncAnimation(self.fig, self.corre, frames = 2000, \n",
    "                                       interval = 1000/24)\n",
    "        return display.display_html(anim.to_jshtml(), raw=True)\n",
    "\n"
   ]
  },
  {
   "cell_type": "code",
   "execution_count": 6,
   "metadata": {
    "colab": {
     "base_uri": "https://localhost:8080/",
     "height": 486
    },
    "colab_type": "code",
    "executionInfo": {
     "elapsed": 486,
     "status": "ok",
     "timestamp": 1576870579430,
     "user": {
      "displayName": "pirron de elis",
      "photoUrl": "https://lh3.googleusercontent.com/a-/AAuE7mDUGoHOXLSEkLPYdU_Gnc1yxZZPJWZ0YqYYuJwU8A=s64",
      "userId": "08178922149514211497"
     },
     "user_tz": 360
    },
    "id": "pjiX3Mnp3wmN",
    "outputId": "bc10ac3c-8ace-40e2-d8dc-229e5ef1090b"
   },
   "outputs": [],
   "source": [
    "malla = np.zeros((300, 300), dtype=np.uint8) # malla inicial de 300x300\n",
    "\n",
    "Ant = Langton(malla)\n"
   ]
  },
  {
   "cell_type": "code",
   "execution_count": 7,
   "metadata": {
    "colab": {
     "base_uri": "https://localhost:8080/",
     "height": 687
    },
    "colab_type": "code",
    "executionInfo": {
     "elapsed": 222813,
     "status": "ok",
     "timestamp": 1576870802827,
     "user": {
      "displayName": "pirron de elis",
      "photoUrl": "https://lh3.googleusercontent.com/a-/AAuE7mDUGoHOXLSEkLPYdU_Gnc1yxZZPJWZ0YqYYuJwU8A=s64",
      "userId": "08178922149514211497"
     },
     "user_tz": 360
    },
    "id": "SgE8MPrHylx0",
    "outputId": "b58e1ea3-d20c-4f3e-b730-6b319cd13c0f"
   },
   "outputs": [],
   "source": [
    "# en colab no despliegua a más de 3000 frames, se realizo con 2000 frames,\n",
    "\n",
    "Ant.animacion()"
   ]
  },
  {
   "cell_type": "code",
   "execution_count": 0,
   "metadata": {
    "colab": {},
    "colab_type": "code",
    "id": "McbManstyl2h"
   },
   "outputs": [],
   "source": []
  },
  {
   "cell_type": "markdown",
   "metadata": {
    "colab_type": "text",
    "id": "ULd0KlyuCIo0"
   },
   "source": [
    "**Exercise 7.2**\n",
    "\n",
    "In 1990 Bak, Chen and Tang proposed a cellular automaton\n",
    "that is an abstract model of a forest fire. Each cell is in one of three states:\n",
    "empty, occupied by a tree, or on fire.\n",
    "\n",
    "The rules of the CA are:\n",
    "1. An empty cell becomes occupied with probability p.\n",
    "2. A cell with a tree burns if any of its neighbors is on fire.\n",
    "3. A cell with a tree spontaneously burns, with probability f, even if none\n",
    "of its neighbors is on fire.\n",
    "4. A cell with a burning tree becomes an empty cell in the next time step.\n",
    "\n",
    "Write a program that implements this model. You might want to inherit from Cell2D. Typical values for the parameters are p = 0.01 and f = 0.001, but you might want to experiment with other values.\n",
    "\n",
    "Starting from a random initial condition, run the model until it reaches a steady state where the number of trees no longer increases or decreases consistently.\n",
    "\n",
    "In steady state, is the geometry of the forest fractal? What is its fractal dimension?"
   ]
  },
  {
   "cell_type": "code",
   "execution_count": 8,
   "metadata": {
    "colab": {},
    "colab_type": "code",
    "id": "RtaNaj-5yXbp"
   },
   "outputs": [],
   "source": [
    "\n",
    "import matplotlib.pyplot as plt\n",
    "from scipy import signal\n",
    "import numpy as np\n",
    "from matplotlib import animation\n",
    "from IPython import display"
   ]
  },
  {
   "cell_type": "code",
   "execution_count": 9,
   "metadata": {
    "colab": {},
    "colab_type": "code",
    "id": "u9Sp8uOwCVKe"
   },
   "outputs": [],
   "source": [
    "class Fire:\n",
    "    def __init__(self,p, f, n, w):\n",
    "        \"\"\"\n",
    "        p: probabilidad de que una celda sea ocupada por un arbol\n",
    "        f: probabilidad de que un arbol se encienda espontaneamente\n",
    "        n: tamaño de la matriz\n",
    "        w: matriz w\n",
    "        \"\"\"\n",
    "        self.w = w\n",
    "        self.p = p\n",
    "        self.f = f\n",
    "        self.A = (np.random.random(size = (n, n)) <= self.p).astype(np.int_)\n",
    "        self.fig, self.ax = plt.subplots(figsize = (8, 8))\n",
    "        self.imagen = self.ax.imshow(self.A, cmap='Reds', alpha=1, vmin=0, vmax=5)\n",
    "        \n",
    "    def un_paso(self):\n",
    "        valor = np.random.random(self.A.shape)\n",
    "        nuevo_arbol = (self.A == 0) & (valor < self.p)\n",
    "        c = signal.correlate2d(self.A, self.w, mode='same', boundary='wrap')\n",
    "\n",
    "        fuego = (self.A == 1) & ((c>4) | (valor<self.f))\n",
    "\n",
    "        self.A[self.A == 5] = 0\n",
    "        self.A[nuevo_arbol] = 1\n",
    "        self.A[fuego] = 5\n",
    "\n",
    "    def corre(self, i):\n",
    "        if i < 0:\n",
    "            return \n",
    "        self.un_paso()\n",
    "        self.imagen.set_array(self.A)\n",
    "\n",
    "    def cuenta(self):         # cuenta el numero de arboles en el bosque (matriz de tamaño n)\n",
    "        a = np.array(self.A)\n",
    "        return np.sum(a == 1)\n",
    "\n",
    "\n",
    "    def animacion(self):\n",
    "        anim = animation.FuncAnimation(self.fig, self.corre, frames = 1000, interval= 1000/24)\n",
    "        return display.display_html(anim.to_jshtml(), raw=True)\n"
   ]
  },
  {
   "cell_type": "code",
   "execution_count": 10,
   "metadata": {
    "colab": {},
    "colab_type": "code",
    "id": "3KCp8l77w8Vh"
   },
   "outputs": [],
   "source": [
    "w = np.array([[0, 1, 0],\n",
    "              [1, 0, 1],\n",
    "              [0, 1, 0]\n",
    "              ])\n",
    "\n",
    "p, f = 0.01, 0.001                                      # parametros de problabilidad (habituales)\n",
    "n = 350                                                 # tamaño de la matriz inicial\n",
    "\n",
    "#A = (np.random.random(size = (n, n)) <= p).astype(np.int_)"
   ]
  },
  {
   "cell_type": "code",
   "execution_count": 11,
   "metadata": {
    "colab": {
     "base_uri": "https://localhost:8080/",
     "height": 486
    },
    "colab_type": "code",
    "executionInfo": {
     "elapsed": 982,
     "status": "ok",
     "timestamp": 1576956067182,
     "user": {
      "displayName": "pirron de elis",
      "photoUrl": "https://lh3.googleusercontent.com/a-/AAuE7mDUGoHOXLSEkLPYdU_Gnc1yxZZPJWZ0YqYYuJwU8A=s64",
      "userId": "08178922149514211497"
     },
     "user_tz": 360
    },
    "id": "9EQzTxh2eyjq",
    "outputId": "40efabd4-aca2-4dff-93af-57d5bdc9245d"
   },
   "outputs": [],
   "source": [
    "bosque = Fire(p, f, n, w)"
   ]
  },
  {
   "cell_type": "code",
   "execution_count": 12,
   "metadata": {
    "colab": {
     "base_uri": "https://localhost:8080/",
     "height": 724
    },
    "colab_type": "code",
    "executionInfo": {
     "elapsed": 91439,
     "status": "ok",
     "timestamp": 1576956165609,
     "user": {
      "displayName": "pirron de elis",
      "photoUrl": "https://lh3.googleusercontent.com/a-/AAuE7mDUGoHOXLSEkLPYdU_Gnc1yxZZPJWZ0YqYYuJwU8A=s64",
      "userId": "08178922149514211497"
     },
     "user_tz": 360
    },
    "id": "-r7OGFrHw8Yn",
    "outputId": "4f1db6b5-d628-437e-9215-dc38158c1de5"
   },
   "outputs": [],
   "source": [
    "bosque.animacion()"
   ]
  },
  {
   "cell_type": "code",
   "execution_count": 13,
   "metadata": {
    "colab": {},
    "colab_type": "code",
    "id": "w_GlwuK6w8dk"
   },
   "outputs": [],
   "source": [
    "\"\"\"\n",
    "ejecuta la simulacion, crea matrices de tamaño \"s\" hasta \"t\"\n",
    "regresa el conteo de arboles\n",
    "\"\"\"\n",
    "def genera_simulacion(s, t):\n",
    "    X = []\n",
    "    n = [i for i in range(s, t)]\n",
    "\n",
    "    for j in n:\n",
    "        n = j\n",
    "        bosque = Fire(p, f, n, w)      # ejecuta 5 veces un bosque de tamaño n y ejecuta un paso en cada ciclo\n",
    "        for i in range(5):\n",
    "            bosque.un_paso()\n",
    "            #if bosque.cuenta() != 0:\n",
    "            X.append(bosque.cuenta())  # cuenta los arboles \n",
    "    return X\n",
    "    \n"
   ]
  },
  {
   "cell_type": "code",
   "execution_count": 14,
   "metadata": {
    "colab": {
     "base_uri": "https://localhost:8080/",
     "height": 1000
    },
    "colab_type": "code",
    "executionInfo": {
     "elapsed": 27718,
     "status": "ok",
     "timestamp": 1576957169981,
     "user": {
      "displayName": "pirron de elis",
      "photoUrl": "https://lh3.googleusercontent.com/a-/AAuE7mDUGoHOXLSEkLPYdU_Gnc1yxZZPJWZ0YqYYuJwU8A=s64",
      "userId": "08178922149514211497"
     },
     "user_tz": 360
    },
    "id": "jj3xbLutkppW",
    "outputId": "6318ec01-8295-4788-8902-e627943a9f60"
   },
   "outputs": [],
   "source": [
    "w = np.array([[0, 1, 0],\n",
    "              [1, 0, 1],\n",
    "              [0, 1, 0]\n",
    "              ])\n",
    "p, f = 0.01, 0.001\n",
    "s, t = 5, 128   # para crear matrices de tamaño 5, 6, 7,..., 128\n",
    "\n",
    "X = genera_simulacion(s, t)\n"
   ]
  },
  {
   "cell_type": "code",
   "execution_count": 0,
   "metadata": {
    "colab": {},
    "colab_type": "code",
    "id": "yCOtCOJDHc9U"
   },
   "outputs": [],
   "source": [
    "#print(0 in X)   \n",
    "#print(len(X), X)"
   ]
  },
  {
   "cell_type": "code",
   "execution_count": 0,
   "metadata": {
    "colab": {
     "base_uri": "https://localhost:8080/",
     "height": 34
    },
    "colab_type": "code",
    "executionInfo": {
     "elapsed": 324,
     "status": "ok",
     "timestamp": 1576878586148,
     "user": {
      "displayName": "pirron de elis",
      "photoUrl": "https://lh3.googleusercontent.com/a-/AAuE7mDUGoHOXLSEkLPYdU_Gnc1yxZZPJWZ0YqYYuJwU8A=s64",
      "userId": "08178922149514211497"
     },
     "user_tz": 360
    },
    "id": "IQuTX2tENaDJ",
    "outputId": "8a4b2059-e376-4400-f344-507af5e097e8"
   },
   "outputs": [
    {
     "data": {
      "text/plain": [
       "'\\nnum = []\\n\\nfor i in range(500):\\n    bosque.un_paso()\\n    num.append(bosque.cuenta())\\n    \\nplt.plot(num)'"
      ]
     },
     "execution_count": 460,
     "metadata": {
      "tags": []
     },
     "output_type": "execute_result"
    }
   ],
   "source": [
    "\n",
    "\"\"\"\n",
    "num = []\n",
    "\n",
    "for i in range(500):\n",
    "    bosque.un_paso()\n",
    "    num.append(bosque.cuenta())\n",
    "    \n",
    "plt.plot(num)\"\"\"\n"
   ]
  },
  {
   "cell_type": "code",
   "execution_count": 15,
   "metadata": {
    "colab": {},
    "colab_type": "code",
    "id": "go_fwzc-77F0"
   },
   "outputs": [
    {
     "ename": "NameError",
     "evalue": "name 'X' is not defined",
     "output_type": "error",
     "traceback": [
      "\u001b[1;31m---------------------------------------------------------------------------\u001b[0m",
      "\u001b[1;31mNameError\u001b[0m                                 Traceback (most recent call last)",
      "\u001b[1;32m<ipython-input-15-8b12096918d0>\u001b[0m in \u001b[0;36m<module>\u001b[1;34m()\u001b[0m\n\u001b[0;32m      3\u001b[0m \u001b[0mcuando\u001b[0m \u001b[0mes\u001b[0m \u001b[1;36m0\u001b[0m \u001b[0mlos\u001b[0m \u001b[0mremplazo\u001b[0m \u001b[0mpor\u001b[0m \u001b[1;36m1\u001b[0m \u001b[0mpara\u001b[0m \u001b[0mque\u001b[0m \u001b[0mhaya\u001b[0m \u001b[0mal\u001b[0m \u001b[0mmenos\u001b[0m \u001b[0mun\u001b[0m \u001b[0marbol\u001b[0m\u001b[1;33m\u001b[0m\u001b[0m\n\u001b[0;32m      4\u001b[0m \"\"\"\n\u001b[1;32m----> 5\u001b[1;33m \u001b[1;32mfor\u001b[0m \u001b[0mn\u001b[0m\u001b[1;33m,\u001b[0m \u001b[0mi\u001b[0m \u001b[1;32min\u001b[0m \u001b[0menumerate\u001b[0m\u001b[1;33m(\u001b[0m\u001b[0mX\u001b[0m\u001b[1;33m)\u001b[0m\u001b[1;33m:\u001b[0m\u001b[1;33m\u001b[0m\u001b[0m\n\u001b[0m\u001b[0;32m      6\u001b[0m     \u001b[1;32mif\u001b[0m \u001b[0mi\u001b[0m \u001b[1;33m==\u001b[0m \u001b[1;36m0\u001b[0m\u001b[1;33m:\u001b[0m\u001b[1;33m\u001b[0m\u001b[0m\n\u001b[0;32m      7\u001b[0m         \u001b[0mX\u001b[0m\u001b[1;33m[\u001b[0m\u001b[0mn\u001b[0m\u001b[1;33m]\u001b[0m \u001b[1;33m=\u001b[0m \u001b[1;36m1\u001b[0m\u001b[1;33m\u001b[0m\u001b[0m\n",
      "\u001b[1;31mNameError\u001b[0m: name 'X' is not defined"
     ]
    }
   ],
   "source": [
    "\"\"\"\n",
    "Al ejecutar la simulacion algunos bosques(matrices) No tienen arboles, por lo que no puede haber un incendio, \n",
    "cuando es 0 los remplazo por 1 para que haya al menos un arbol\n",
    "\"\"\"\n",
    "for n, i in enumerate(X):\n",
    "    if i == 0:\n",
    "        X[n] = 1\n"
   ]
  },
  {
   "cell_type": "code",
   "execution_count": 9,
   "metadata": {
    "colab": {
     "base_uri": "https://localhost:8080/",
     "height": 609
    },
    "colab_type": "code",
    "executionInfo": {
     "elapsed": 455,
     "status": "ok",
     "timestamp": 1576957178877,
     "user": {
      "displayName": "pirron de elis",
      "photoUrl": "https://lh3.googleusercontent.com/a-/AAuE7mDUGoHOXLSEkLPYdU_Gnc1yxZZPJWZ0YqYYuJwU8A=s64",
      "userId": "08178922149514211497"
     },
     "user_tz": 360
    },
    "id": "Y0yeEw4eelKi",
    "outputId": "1cd384f0-f0d9-4af2-d50f-3ba84d211363"
   },
   "outputs": [
    {
     "data": {
      "text/plain": [
       "[<matplotlib.lines.Line2D at 0x7f2a367b8d30>]"
      ]
     },
     "execution_count": 9,
     "metadata": {
      "tags": []
     },
     "output_type": "execute_result"
    },
    {
     "data": {
      "image/png": "[encoded data removed]",
      "text/plain": [
       "<Figure size 720x720 with 1 Axes>"
      ]
     },
     "metadata": {
      "tags": []
     },
     "output_type": "display_data"
    }
   ],
   "source": [
    "# viasualizacion de los datos\n",
    "\n",
    "fig, ax = plt.subplots(figsize = (10,10))\n",
    "ax.plot([i for i in range(s, t) for j in range(5)], X, \".\")"
   ]
  },
  {
   "cell_type": "code",
   "execution_count": 10,
   "metadata": {
    "colab": {
     "base_uri": "https://localhost:8080/",
     "height": 612
    },
    "colab_type": "code",
    "executionInfo": {
     "elapsed": 1059,
     "status": "ok",
     "timestamp": 1576957181745,
     "user": {
      "displayName": "pirron de elis",
      "photoUrl": "https://lh3.googleusercontent.com/a-/AAuE7mDUGoHOXLSEkLPYdU_Gnc1yxZZPJWZ0YqYYuJwU8A=s64",
      "userId": "08178922149514211497"
     },
     "user_tz": 360
    },
    "id": "9JmRA3OSelWP",
    "outputId": "054ce2f1-78d6-422b-f088-eb2ba602b76f"
   },
   "outputs": [
    {
     "data": {
      "text/plain": [
       "<matplotlib.legend.Legend at 0x7f2a34f542b0>"
      ]
     },
     "execution_count": 10,
     "metadata": {
      "tags": []
     },
     "output_type": "execute_result"
    },
    {
     "data": {
      "image/png": "[encoded data removed]",
      "text/plain": [
       "<Figure size 720x720 with 1 Axes>"
      ]
     },
     "metadata": {
      "tags": []
     },
     "output_type": "display_data"
    }
   ],
   "source": [
    "# graficando las dimensiones fractales, \n",
    "\n",
    "fig, ax = plt.subplots(figsize = (10,10))\n",
    "ax.plot([i for i in range(s, t) for j in range(0, s)], X,\".\")\n",
    "\n",
    "x = np.array([i for i in range(s, t) for j in range(0, s)])\n",
    "#x = np.array(x)\n",
    "\n",
    "ax.plot(x, x, label='dim1')\n",
    "ax.plot(x, x**2, label='dim2')\n",
    "\n",
    "polinomio = np.polyfit(np.log(x), np.log(X), deg = 1)\n",
    "regresion = np.exp(np.polyval(polinomio, np.log(x)))\n",
    "ax.plot(x, regresion, label=\"regresion\")\n",
    "\n",
    "ax.set_xscale(\"log\")\n",
    "ax.set_yscale(\"log\")\n",
    "ax.legend()"
   ]
  },
  {
   "cell_type": "code",
   "execution_count": 11,
   "metadata": {
    "colab": {
     "base_uri": "https://localhost:8080/",
     "height": 34
    },
    "colab_type": "code",
    "executionInfo": {
     "elapsed": 310,
     "status": "ok",
     "timestamp": 1576957184077,
     "user": {
      "displayName": "pirron de elis",
      "photoUrl": "https://lh3.googleusercontent.com/a-/AAuE7mDUGoHOXLSEkLPYdU_Gnc1yxZZPJWZ0YqYYuJwU8A=s64",
      "userId": "08178922149514211497"
     },
     "user_tz": 360
    },
    "id": "7NdHiwjSw8bz",
    "outputId": "cd09a37b-e634-4510-94e7-4e4420c86775"
   },
   "outputs": [
    {
     "name": "stdout",
     "output_type": "stream",
     "text": [
      "la dimension del fractal es:  2.0101189175640553\n"
     ]
    }
   ],
   "source": [
    "# la dimension varia en las simulaciones, se acerca a 2 por la izq y por la der, en algunos casos es 2\n",
    "# no es claro si es o no es un fractal por estas variaciones\n",
    "\n",
    "print(\"la dimension del fractal es: \", polinomio[0])\n"
   ]
  },
  {
   "cell_type": "code",
   "execution_count": 0,
   "metadata": {
    "colab": {},
    "colab_type": "code",
    "id": "AloLEKkRSxUk"
   },
   "outputs": [],
   "source": []
  }
 ],
 "metadata": {
  "colab": {
   "collapsed_sections": [],
   "name": "Copy of Final.ipynb",
   "provenance": [
    {
     "file_id": "1W4dF1jiYHznOHrz2s90eEw2mxkrf03lg",
     "timestamp": 1576958724225
    }
   ]
  },
  "kernelspec": {
   "display_name": "Python 3",
   "language": "python",
   "name": "python3"
  },
  "language_info": {
   "codemirror_mode": {
    "name": "ipython",
    "version": 3
   },
   "file_extension": ".py",
   "mimetype": "text/x-python",
   "name": "python",
   "nbconvert_exporter": "python",
   "pygments_lexer": "ipython3",
   "version": "3.7.0"
  }
 },
 "nbformat": 4,
 "nbformat_minor": 1
}
